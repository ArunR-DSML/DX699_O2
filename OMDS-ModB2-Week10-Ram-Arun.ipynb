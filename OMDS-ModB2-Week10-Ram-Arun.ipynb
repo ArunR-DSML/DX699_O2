{
 "cells": [
  {
   "cell_type": "markdown",
   "id": "6cdfaa22-715b-415c-a9c1-33fe8130114e",
   "metadata": {},
   "source": [
    "# Week 10 - Introduction to Modeling"
   ]
  },
  {
   "cell_type": "markdown",
   "id": "480a3a81",
   "metadata": {},
   "source": [
    "### <font color = 'plum'>  ANSWERS IN THIS COLOR"
   ]
  },
  {
   "cell_type": "code",
   "execution_count": 1,
   "id": "7e1fd04b-420c-4f7a-b99c-67810d9be77a",
   "metadata": {},
   "outputs": [],
   "source": [
    "import pandas as pd\n",
    "import numpy as np\n",
    "import matplotlib.pyplot as plt\n",
    "import time\n",
    "\n",
    "from sklearn.ensemble import RandomForestRegressor\n",
    "from sklearn.metrics import root_mean_squared_error, r2_score, median_absolute_error, make_scorer, mean_squared_error\n",
    "from sklearn.model_selection import GridSearchCV, RandomizedSearchCV, train_test_split\n",
    "from scipy.stats import pearsonr, randint\n",
    "\n",
    "plt.rcParams['axes.titlesize']  = 10\n",
    "plt.rcParams['axes.labelsize']  = 8\n",
    "plt.rcParams['lines.linewidth'] = 0.5\n",
    "# plt.rcParams['lines.markersize'] = 3\n",
    "plt.rcParams['axes.edgecolor']  = 'gray'\n",
    "plt.rcParams['xtick.color']     = 'gray'\n",
    "plt.rcParams['ytick.color']     = 'gray'\n",
    "plt.rcParams['xtick.color']     = 'gray'\n",
    "plt.rcParams['ytick.color']     = 'gray'\n",
    "plt.rcParams['ytick.labelsize'] = 8\n",
    "plt.rcParams['xtick.labelsize'] = 8"
   ]
  },
  {
   "cell_type": "markdown",
   "id": "d0b0878d-ab12-43c7-888b-95ce2fcb077e",
   "metadata": {},
   "source": [
    "# 1. Lesson"
   ]
  },
  {
   "cell_type": "markdown",
   "id": "5e6c3ce5",
   "metadata": {},
   "source": [
    "*Apply a random forest model to some training data about stock price changes. The random forest model will predict one of the stocks from the others. You will use cross-validation to perform multiple train-test splits and use grid or random search hyperparameter tuning to choose the number of trees and the maximum depth. In the following week, you will apply this model to your data.*"
   ]
  },
  {
   "cell_type": "markdown",
   "id": "79136ac6-df91-48dc-95b3-aed69f8e8b66",
   "metadata": {},
   "source": [
    "Last week, we reviewed one model: linear regression.  This week, we are going to review another, called <font color='cyan'>RANDOM FOREST</font>.  The random forest model builds many decision trees, then averages their estimates to make a prediction.\n",
    "\n",
    "You will also perform:\n",
    "* Cross-validation\n",
    "* Hyperparameter tuning\n",
    "* A performance metric (root mean squared error)\n",
    "\n",
    "### How does random forest work?\n",
    "\n",
    "A random forest is a set of decision trees.  Let's say we use `n_estimators = 100` decision trees, and we have ten features.  Then each decision tree is built so that a given branch gets about three (sqrt(10)) features to choose from.  It starts from the top of the tree, selects the best feature, then proceeds to the next nodes.  The best feature is the one that minimizes the mean squared error, which must be computed for both branches, weighted according to the probability of each branch, and then summed over both branches."
   ]
  },
  {
   "cell_type": "markdown",
   "id": "3b40de11-8e84-4a88-98a7-d8d31e7a7923",
   "metadata": {},
   "source": [
    "Here, we build three series of random numbers between 0 and 1.  We use a somewhat arbitrary formula to construct the synthetic data.  The fourth value (the target) equals the first series minus twice the second, with the whole then being multiplied by the third series.  If we stopped here, the target would be completely dependent on the three feature series - it would be easy to predict.  However, we then add a random normal distribution to make the prediction harder.\n",
    "\n",
    "There are a training series and a test series, with different features (\"a\" and \"b\"), and with different random normal data added.  This tests whether our model can predict new data.  We fit to the \"a\" features using the train_target, then predict the test_target using the \"b\" features."
   ]
  },
  {
   "cell_type": "code",
   "execution_count": 2,
   "id": "b3cc621b-f998-4bd6-af75-e09688998931",
   "metadata": {},
   "outputs": [],
   "source": [
    "np.random.seed(0)\n",
    "\n",
    "num_points      = 10000\n",
    "feature_1a      = np.random.random(size = num_points) * 3\n",
    "feature_2a      = np.random.random(size = num_points) * 3\n",
    "feature_3a      = np.random.random(size = num_points) * 3\n",
    "error_a         = np.random.normal(size = num_points)\n",
    "train_target    = (feature_1a - 2*feature_2a) * feature_3a + error_a\n",
    "\n",
    "feature_1b      = np.random.random(size = num_points) * 3\n",
    "feature_2b      = np.random.random(size = num_points) * 3\n",
    "feature_3b      = np.random.random(size = num_points) * 3\n",
    "error_b         = np.random.normal(size = num_points)\n",
    "test_target     = (feature_1b - 2 * feature_2b) * feature_3b + error_b\n",
    "\n",
    "train_df        = pd.DataFrame({\"f1\": feature_1a, \"f2\": feature_2a, \"f3\": feature_3a})\n",
    "test_df         = pd.DataFrame({\"f1\": feature_1b, \"f2\": feature_2b, \"f3\": feature_3b})\n",
    "\n",
    "# Fit a random forest model to the training data\n",
    "rf              = RandomForestRegressor().fit(train_df.to_numpy(), train_target)"
   ]
  },
  {
   "cell_type": "markdown",
   "id": "0ffcf727-d120-4614-8d7a-194c291d90ec",
   "metadata": {},
   "source": [
    "As expected, the RMSE is smallest when predicting the training data, larger when predicting the testing data, and largest when comparing random (shuffled) data instead of using a prediction.  In the last case, there is no attempt to make a good prediction.  **The small RMSE when predicting the training data indicates that the model has \"memorized\" the training data to some degree.**"
   ]
  },
  {
   "cell_type": "code",
   "execution_count": 3,
   "id": "3358e3bc",
   "metadata": {},
   "outputs": [],
   "source": [
    "train_preds = rf.predict(train_df.to_numpy())\n",
    "test_preds  = rf.predict(test_df.to_numpy())"
   ]
  },
  {
   "cell_type": "code",
   "execution_count": 4,
   "id": "9257a7d1-0cf4-49f3-aec4-d0a157af3722",
   "metadata": {},
   "outputs": [
    {
     "name": "stdout",
     "output_type": "stream",
     "text": [
      "RMSE when predicting training data: 0.4044\n",
      "\n",
      "RMSE when predicting testing data: 1.0667\n",
      "\n",
      "RMSE with random predictions: 5.2621\n",
      "\n"
     ]
    }
   ],
   "source": [
    "print(f\"RMSE when predicting training data: {root_mean_squared_error(train_preds, train_target):.4f}\\n\")\n",
    "\n",
    "print(f\"RMSE when predicting testing data: {root_mean_squared_error(test_preds, test_target):.4f}\\n\")\n",
    "\n",
    "test_target_shuffle = test_target.copy()\n",
    "np.random.shuffle(test_target_shuffle)\n",
    "\n",
    "print(f\"RMSE with random predictions: {root_mean_squared_error(test_target_shuffle, test_target):.4f}\\n\")\n",
    "# print(root_mean_squared_error(test_target_shuffle, test_target))"
   ]
  },
  {
   "cell_type": "markdown",
   "id": "673cef49-0995-4aac-9122-6d5b811df63f",
   "metadata": {},
   "source": [
    "Next, we perform a Grid Search over various parameters.  We've used a small number of parameters here, but you could add more.  The first parameter, `n_estimators`, shows the number of decision trees in the random forest.  The second, `max_depth`, is the maximum depth of each tree.  By picking three n_estimators values (10, 33, 100) and three max_depth values (2, 4, None), we allow for nine parameter combinations.  For example, (n_estimators = 10, max_depth = 2) is a combination.  The grid search tries all nine combinations and uses cross validation to choose the best one.  This is done below.\n",
    "\n",
    "### What is cross validation?\n",
    "\n",
    "Cross validation is a way to find out *which parameter combination is the best*.  With 5-fold cross validation (the default) we divide the data into five equal-sized groups.  Four of them are used as training data and the fifth is testing data.  The score (in this case the root mean squared error) on the testing data is recorded.  This is done for each split: that is, each fifth is taken out and used as testing data; then, the five root mean squared errors (from taking out the five fifths, one at a time) are averaged.\n",
    "\n",
    "We now have root mean squared error value for each parameter combination, allowing us to choose the best combination."
   ]
  },
  {
   "cell_type": "code",
   "execution_count": 5,
   "id": "8c9c5882-7483-4916-9995-a97935faa225",
   "metadata": {},
   "outputs": [
    {
     "data": {
      "text/html": [
       "<style>#sk-container-id-1 {\n",
       "  /* Definition of color scheme common for light and dark mode */\n",
       "  --sklearn-color-text: black;\n",
       "  --sklearn-color-line: gray;\n",
       "  /* Definition of color scheme for unfitted estimators */\n",
       "  --sklearn-color-unfitted-level-0: #fff5e6;\n",
       "  --sklearn-color-unfitted-level-1: #f6e4d2;\n",
       "  --sklearn-color-unfitted-level-2: #ffe0b3;\n",
       "  --sklearn-color-unfitted-level-3: chocolate;\n",
       "  /* Definition of color scheme for fitted estimators */\n",
       "  --sklearn-color-fitted-level-0: #f0f8ff;\n",
       "  --sklearn-color-fitted-level-1: #d4ebff;\n",
       "  --sklearn-color-fitted-level-2: #b3dbfd;\n",
       "  --sklearn-color-fitted-level-3: cornflowerblue;\n",
       "\n",
       "  /* Specific color for light theme */\n",
       "  --sklearn-color-text-on-default-background: var(--sg-text-color, var(--theme-code-foreground, var(--jp-content-font-color1, black)));\n",
       "  --sklearn-color-background: var(--sg-background-color, var(--theme-background, var(--jp-layout-color0, white)));\n",
       "  --sklearn-color-border-box: var(--sg-text-color, var(--theme-code-foreground, var(--jp-content-font-color1, black)));\n",
       "  --sklearn-color-icon: #696969;\n",
       "\n",
       "  @media (prefers-color-scheme: dark) {\n",
       "    /* Redefinition of color scheme for dark theme */\n",
       "    --sklearn-color-text-on-default-background: var(--sg-text-color, var(--theme-code-foreground, var(--jp-content-font-color1, white)));\n",
       "    --sklearn-color-background: var(--sg-background-color, var(--theme-background, var(--jp-layout-color0, #111)));\n",
       "    --sklearn-color-border-box: var(--sg-text-color, var(--theme-code-foreground, var(--jp-content-font-color1, white)));\n",
       "    --sklearn-color-icon: #878787;\n",
       "  }\n",
       "}\n",
       "\n",
       "#sk-container-id-1 {\n",
       "  color: var(--sklearn-color-text);\n",
       "}\n",
       "\n",
       "#sk-container-id-1 pre {\n",
       "  padding: 0;\n",
       "}\n",
       "\n",
       "#sk-container-id-1 input.sk-hidden--visually {\n",
       "  border: 0;\n",
       "  clip: rect(1px 1px 1px 1px);\n",
       "  clip: rect(1px, 1px, 1px, 1px);\n",
       "  height: 1px;\n",
       "  margin: -1px;\n",
       "  overflow: hidden;\n",
       "  padding: 0;\n",
       "  position: absolute;\n",
       "  width: 1px;\n",
       "}\n",
       "\n",
       "#sk-container-id-1 div.sk-dashed-wrapped {\n",
       "  border: 1px dashed var(--sklearn-color-line);\n",
       "  margin: 0 0.4em 0.5em 0.4em;\n",
       "  box-sizing: border-box;\n",
       "  padding-bottom: 0.4em;\n",
       "  background-color: var(--sklearn-color-background);\n",
       "}\n",
       "\n",
       "#sk-container-id-1 div.sk-container {\n",
       "  /* jupyter's `normalize.less` sets `[hidden] { display: none; }`\n",
       "     but bootstrap.min.css set `[hidden] { display: none !important; }`\n",
       "     so we also need the `!important` here to be able to override the\n",
       "     default hidden behavior on the sphinx rendered scikit-learn.org.\n",
       "     See: https://github.com/scikit-learn/scikit-learn/issues/21755 */\n",
       "  display: inline-block !important;\n",
       "  position: relative;\n",
       "}\n",
       "\n",
       "#sk-container-id-1 div.sk-text-repr-fallback {\n",
       "  display: none;\n",
       "}\n",
       "\n",
       "div.sk-parallel-item,\n",
       "div.sk-serial,\n",
       "div.sk-item {\n",
       "  /* draw centered vertical line to link estimators */\n",
       "  background-image: linear-gradient(var(--sklearn-color-text-on-default-background), var(--sklearn-color-text-on-default-background));\n",
       "  background-size: 2px 100%;\n",
       "  background-repeat: no-repeat;\n",
       "  background-position: center center;\n",
       "}\n",
       "\n",
       "/* Parallel-specific style estimator block */\n",
       "\n",
       "#sk-container-id-1 div.sk-parallel-item::after {\n",
       "  content: \"\";\n",
       "  width: 100%;\n",
       "  border-bottom: 2px solid var(--sklearn-color-text-on-default-background);\n",
       "  flex-grow: 1;\n",
       "}\n",
       "\n",
       "#sk-container-id-1 div.sk-parallel {\n",
       "  display: flex;\n",
       "  align-items: stretch;\n",
       "  justify-content: center;\n",
       "  background-color: var(--sklearn-color-background);\n",
       "  position: relative;\n",
       "}\n",
       "\n",
       "#sk-container-id-1 div.sk-parallel-item {\n",
       "  display: flex;\n",
       "  flex-direction: column;\n",
       "}\n",
       "\n",
       "#sk-container-id-1 div.sk-parallel-item:first-child::after {\n",
       "  align-self: flex-end;\n",
       "  width: 50%;\n",
       "}\n",
       "\n",
       "#sk-container-id-1 div.sk-parallel-item:last-child::after {\n",
       "  align-self: flex-start;\n",
       "  width: 50%;\n",
       "}\n",
       "\n",
       "#sk-container-id-1 div.sk-parallel-item:only-child::after {\n",
       "  width: 0;\n",
       "}\n",
       "\n",
       "/* Serial-specific style estimator block */\n",
       "\n",
       "#sk-container-id-1 div.sk-serial {\n",
       "  display: flex;\n",
       "  flex-direction: column;\n",
       "  align-items: center;\n",
       "  background-color: var(--sklearn-color-background);\n",
       "  padding-right: 1em;\n",
       "  padding-left: 1em;\n",
       "}\n",
       "\n",
       "\n",
       "/* Toggleable style: style used for estimator/Pipeline/ColumnTransformer box that is\n",
       "clickable and can be expanded/collapsed.\n",
       "- Pipeline and ColumnTransformer use this feature and define the default style\n",
       "- Estimators will overwrite some part of the style using the `sk-estimator` class\n",
       "*/\n",
       "\n",
       "/* Pipeline and ColumnTransformer style (default) */\n",
       "\n",
       "#sk-container-id-1 div.sk-toggleable {\n",
       "  /* Default theme specific background. It is overwritten whether we have a\n",
       "  specific estimator or a Pipeline/ColumnTransformer */\n",
       "  background-color: var(--sklearn-color-background);\n",
       "}\n",
       "\n",
       "/* Toggleable label */\n",
       "#sk-container-id-1 label.sk-toggleable__label {\n",
       "  cursor: pointer;\n",
       "  display: block;\n",
       "  width: 100%;\n",
       "  margin-bottom: 0;\n",
       "  padding: 0.5em;\n",
       "  box-sizing: border-box;\n",
       "  text-align: center;\n",
       "}\n",
       "\n",
       "#sk-container-id-1 label.sk-toggleable__label-arrow:before {\n",
       "  /* Arrow on the left of the label */\n",
       "  content: \"▸\";\n",
       "  float: left;\n",
       "  margin-right: 0.25em;\n",
       "  color: var(--sklearn-color-icon);\n",
       "}\n",
       "\n",
       "#sk-container-id-1 label.sk-toggleable__label-arrow:hover:before {\n",
       "  color: var(--sklearn-color-text);\n",
       "}\n",
       "\n",
       "/* Toggleable content - dropdown */\n",
       "\n",
       "#sk-container-id-1 div.sk-toggleable__content {\n",
       "  max-height: 0;\n",
       "  max-width: 0;\n",
       "  overflow: hidden;\n",
       "  text-align: left;\n",
       "  /* unfitted */\n",
       "  background-color: var(--sklearn-color-unfitted-level-0);\n",
       "}\n",
       "\n",
       "#sk-container-id-1 div.sk-toggleable__content.fitted {\n",
       "  /* fitted */\n",
       "  background-color: var(--sklearn-color-fitted-level-0);\n",
       "}\n",
       "\n",
       "#sk-container-id-1 div.sk-toggleable__content pre {\n",
       "  margin: 0.2em;\n",
       "  border-radius: 0.25em;\n",
       "  color: var(--sklearn-color-text);\n",
       "  /* unfitted */\n",
       "  background-color: var(--sklearn-color-unfitted-level-0);\n",
       "}\n",
       "\n",
       "#sk-container-id-1 div.sk-toggleable__content.fitted pre {\n",
       "  /* unfitted */\n",
       "  background-color: var(--sklearn-color-fitted-level-0);\n",
       "}\n",
       "\n",
       "#sk-container-id-1 input.sk-toggleable__control:checked~div.sk-toggleable__content {\n",
       "  /* Expand drop-down */\n",
       "  max-height: 200px;\n",
       "  max-width: 100%;\n",
       "  overflow: auto;\n",
       "}\n",
       "\n",
       "#sk-container-id-1 input.sk-toggleable__control:checked~label.sk-toggleable__label-arrow:before {\n",
       "  content: \"▾\";\n",
       "}\n",
       "\n",
       "/* Pipeline/ColumnTransformer-specific style */\n",
       "\n",
       "#sk-container-id-1 div.sk-label input.sk-toggleable__control:checked~label.sk-toggleable__label {\n",
       "  color: var(--sklearn-color-text);\n",
       "  background-color: var(--sklearn-color-unfitted-level-2);\n",
       "}\n",
       "\n",
       "#sk-container-id-1 div.sk-label.fitted input.sk-toggleable__control:checked~label.sk-toggleable__label {\n",
       "  background-color: var(--sklearn-color-fitted-level-2);\n",
       "}\n",
       "\n",
       "/* Estimator-specific style */\n",
       "\n",
       "/* Colorize estimator box */\n",
       "#sk-container-id-1 div.sk-estimator input.sk-toggleable__control:checked~label.sk-toggleable__label {\n",
       "  /* unfitted */\n",
       "  background-color: var(--sklearn-color-unfitted-level-2);\n",
       "}\n",
       "\n",
       "#sk-container-id-1 div.sk-estimator.fitted input.sk-toggleable__control:checked~label.sk-toggleable__label {\n",
       "  /* fitted */\n",
       "  background-color: var(--sklearn-color-fitted-level-2);\n",
       "}\n",
       "\n",
       "#sk-container-id-1 div.sk-label label.sk-toggleable__label,\n",
       "#sk-container-id-1 div.sk-label label {\n",
       "  /* The background is the default theme color */\n",
       "  color: var(--sklearn-color-text-on-default-background);\n",
       "}\n",
       "\n",
       "/* On hover, darken the color of the background */\n",
       "#sk-container-id-1 div.sk-label:hover label.sk-toggleable__label {\n",
       "  color: var(--sklearn-color-text);\n",
       "  background-color: var(--sklearn-color-unfitted-level-2);\n",
       "}\n",
       "\n",
       "/* Label box, darken color on hover, fitted */\n",
       "#sk-container-id-1 div.sk-label.fitted:hover label.sk-toggleable__label.fitted {\n",
       "  color: var(--sklearn-color-text);\n",
       "  background-color: var(--sklearn-color-fitted-level-2);\n",
       "}\n",
       "\n",
       "/* Estimator label */\n",
       "\n",
       "#sk-container-id-1 div.sk-label label {\n",
       "  font-family: monospace;\n",
       "  font-weight: bold;\n",
       "  display: inline-block;\n",
       "  line-height: 1.2em;\n",
       "}\n",
       "\n",
       "#sk-container-id-1 div.sk-label-container {\n",
       "  text-align: center;\n",
       "}\n",
       "\n",
       "/* Estimator-specific */\n",
       "#sk-container-id-1 div.sk-estimator {\n",
       "  font-family: monospace;\n",
       "  border: 1px dotted var(--sklearn-color-border-box);\n",
       "  border-radius: 0.25em;\n",
       "  box-sizing: border-box;\n",
       "  margin-bottom: 0.5em;\n",
       "  /* unfitted */\n",
       "  background-color: var(--sklearn-color-unfitted-level-0);\n",
       "}\n",
       "\n",
       "#sk-container-id-1 div.sk-estimator.fitted {\n",
       "  /* fitted */\n",
       "  background-color: var(--sklearn-color-fitted-level-0);\n",
       "}\n",
       "\n",
       "/* on hover */\n",
       "#sk-container-id-1 div.sk-estimator:hover {\n",
       "  /* unfitted */\n",
       "  background-color: var(--sklearn-color-unfitted-level-2);\n",
       "}\n",
       "\n",
       "#sk-container-id-1 div.sk-estimator.fitted:hover {\n",
       "  /* fitted */\n",
       "  background-color: var(--sklearn-color-fitted-level-2);\n",
       "}\n",
       "\n",
       "/* Specification for estimator info (e.g. \"i\" and \"?\") */\n",
       "\n",
       "/* Common style for \"i\" and \"?\" */\n",
       "\n",
       ".sk-estimator-doc-link,\n",
       "a:link.sk-estimator-doc-link,\n",
       "a:visited.sk-estimator-doc-link {\n",
       "  float: right;\n",
       "  font-size: smaller;\n",
       "  line-height: 1em;\n",
       "  font-family: monospace;\n",
       "  background-color: var(--sklearn-color-background);\n",
       "  border-radius: 1em;\n",
       "  height: 1em;\n",
       "  width: 1em;\n",
       "  text-decoration: none !important;\n",
       "  margin-left: 1ex;\n",
       "  /* unfitted */\n",
       "  border: var(--sklearn-color-unfitted-level-1) 1pt solid;\n",
       "  color: var(--sklearn-color-unfitted-level-1);\n",
       "}\n",
       "\n",
       ".sk-estimator-doc-link.fitted,\n",
       "a:link.sk-estimator-doc-link.fitted,\n",
       "a:visited.sk-estimator-doc-link.fitted {\n",
       "  /* fitted */\n",
       "  border: var(--sklearn-color-fitted-level-1) 1pt solid;\n",
       "  color: var(--sklearn-color-fitted-level-1);\n",
       "}\n",
       "\n",
       "/* On hover */\n",
       "div.sk-estimator:hover .sk-estimator-doc-link:hover,\n",
       ".sk-estimator-doc-link:hover,\n",
       "div.sk-label-container:hover .sk-estimator-doc-link:hover,\n",
       ".sk-estimator-doc-link:hover {\n",
       "  /* unfitted */\n",
       "  background-color: var(--sklearn-color-unfitted-level-3);\n",
       "  color: var(--sklearn-color-background);\n",
       "  text-decoration: none;\n",
       "}\n",
       "\n",
       "div.sk-estimator.fitted:hover .sk-estimator-doc-link.fitted:hover,\n",
       ".sk-estimator-doc-link.fitted:hover,\n",
       "div.sk-label-container:hover .sk-estimator-doc-link.fitted:hover,\n",
       ".sk-estimator-doc-link.fitted:hover {\n",
       "  /* fitted */\n",
       "  background-color: var(--sklearn-color-fitted-level-3);\n",
       "  color: var(--sklearn-color-background);\n",
       "  text-decoration: none;\n",
       "}\n",
       "\n",
       "/* Span, style for the box shown on hovering the info icon */\n",
       ".sk-estimator-doc-link span {\n",
       "  display: none;\n",
       "  z-index: 9999;\n",
       "  position: relative;\n",
       "  font-weight: normal;\n",
       "  right: .2ex;\n",
       "  padding: .5ex;\n",
       "  margin: .5ex;\n",
       "  width: min-content;\n",
       "  min-width: 20ex;\n",
       "  max-width: 50ex;\n",
       "  color: var(--sklearn-color-text);\n",
       "  box-shadow: 2pt 2pt 4pt #999;\n",
       "  /* unfitted */\n",
       "  background: var(--sklearn-color-unfitted-level-0);\n",
       "  border: .5pt solid var(--sklearn-color-unfitted-level-3);\n",
       "}\n",
       "\n",
       ".sk-estimator-doc-link.fitted span {\n",
       "  /* fitted */\n",
       "  background: var(--sklearn-color-fitted-level-0);\n",
       "  border: var(--sklearn-color-fitted-level-3);\n",
       "}\n",
       "\n",
       ".sk-estimator-doc-link:hover span {\n",
       "  display: block;\n",
       "}\n",
       "\n",
       "/* \"?\"-specific style due to the `<a>` HTML tag */\n",
       "\n",
       "#sk-container-id-1 a.estimator_doc_link {\n",
       "  float: right;\n",
       "  font-size: 1rem;\n",
       "  line-height: 1em;\n",
       "  font-family: monospace;\n",
       "  background-color: var(--sklearn-color-background);\n",
       "  border-radius: 1rem;\n",
       "  height: 1rem;\n",
       "  width: 1rem;\n",
       "  text-decoration: none;\n",
       "  /* unfitted */\n",
       "  color: var(--sklearn-color-unfitted-level-1);\n",
       "  border: var(--sklearn-color-unfitted-level-1) 1pt solid;\n",
       "}\n",
       "\n",
       "#sk-container-id-1 a.estimator_doc_link.fitted {\n",
       "  /* fitted */\n",
       "  border: var(--sklearn-color-fitted-level-1) 1pt solid;\n",
       "  color: var(--sklearn-color-fitted-level-1);\n",
       "}\n",
       "\n",
       "/* On hover */\n",
       "#sk-container-id-1 a.estimator_doc_link:hover {\n",
       "  /* unfitted */\n",
       "  background-color: var(--sklearn-color-unfitted-level-3);\n",
       "  color: var(--sklearn-color-background);\n",
       "  text-decoration: none;\n",
       "}\n",
       "\n",
       "#sk-container-id-1 a.estimator_doc_link.fitted:hover {\n",
       "  /* fitted */\n",
       "  background-color: var(--sklearn-color-fitted-level-3);\n",
       "}\n",
       "</style><div id=\"sk-container-id-1\" class=\"sk-top-container\"><div class=\"sk-text-repr-fallback\"><pre>GridSearchCV(estimator=RandomForestRegressor(),\n",
       "             param_grid={&#x27;max_depth&#x27;: [2, 4, None],\n",
       "                         &#x27;n_estimators&#x27;: [10, 33, 100]},\n",
       "             scoring=&#x27;neg_root_mean_squared_error&#x27;)</pre><b>In a Jupyter environment, please rerun this cell to show the HTML representation or trust the notebook. <br />On GitHub, the HTML representation is unable to render, please try loading this page with nbviewer.org.</b></div><div class=\"sk-container\" hidden><div class=\"sk-item sk-dashed-wrapped\"><div class=\"sk-label-container\"><div class=\"sk-label fitted sk-toggleable\"><input class=\"sk-toggleable__control sk-hidden--visually\" id=\"sk-estimator-id-1\" type=\"checkbox\" ><label for=\"sk-estimator-id-1\" class=\"sk-toggleable__label fitted sk-toggleable__label-arrow fitted\">&nbsp;&nbsp;GridSearchCV<a class=\"sk-estimator-doc-link fitted\" rel=\"noreferrer\" target=\"_blank\" href=\"https://scikit-learn.org/1.4/modules/generated/sklearn.model_selection.GridSearchCV.html\">?<span>Documentation for GridSearchCV</span></a><span class=\"sk-estimator-doc-link fitted\">i<span>Fitted</span></span></label><div class=\"sk-toggleable__content fitted\"><pre>GridSearchCV(estimator=RandomForestRegressor(),\n",
       "             param_grid={&#x27;max_depth&#x27;: [2, 4, None],\n",
       "                         &#x27;n_estimators&#x27;: [10, 33, 100]},\n",
       "             scoring=&#x27;neg_root_mean_squared_error&#x27;)</pre></div> </div></div><div class=\"sk-parallel\"><div class=\"sk-parallel-item\"><div class=\"sk-item\"><div class=\"sk-label-container\"><div class=\"sk-label fitted sk-toggleable\"><input class=\"sk-toggleable__control sk-hidden--visually\" id=\"sk-estimator-id-2\" type=\"checkbox\" ><label for=\"sk-estimator-id-2\" class=\"sk-toggleable__label fitted sk-toggleable__label-arrow fitted\">estimator: RandomForestRegressor</label><div class=\"sk-toggleable__content fitted\"><pre>RandomForestRegressor()</pre></div> </div></div><div class=\"sk-serial\"><div class=\"sk-item\"><div class=\"sk-estimator fitted sk-toggleable\"><input class=\"sk-toggleable__control sk-hidden--visually\" id=\"sk-estimator-id-3\" type=\"checkbox\" ><label for=\"sk-estimator-id-3\" class=\"sk-toggleable__label fitted sk-toggleable__label-arrow fitted\">&nbsp;RandomForestRegressor<a class=\"sk-estimator-doc-link fitted\" rel=\"noreferrer\" target=\"_blank\" href=\"https://scikit-learn.org/1.4/modules/generated/sklearn.ensemble.RandomForestRegressor.html\">?<span>Documentation for RandomForestRegressor</span></a></label><div class=\"sk-toggleable__content fitted\"><pre>RandomForestRegressor()</pre></div> </div></div></div></div></div></div></div></div></div>"
      ],
      "text/plain": [
       "GridSearchCV(estimator=RandomForestRegressor(),\n",
       "             param_grid={'max_depth': [2, 4, None],\n",
       "                         'n_estimators': [10, 33, 100]},\n",
       "             scoring='neg_root_mean_squared_error')"
      ]
     },
     "execution_count": 5,
     "metadata": {},
     "output_type": "execute_result"
    }
   ],
   "source": [
    "np.random.seed(0)\n",
    "gcv = GridSearchCV(estimator    = RandomForestRegressor(), \n",
    "                   param_grid   = {\"n_estimators\": [10, 33, 100],\n",
    "                                 \"max_depth\": [2, 4, None]\n",
    "                                 }, \n",
    "                   scoring      = \"neg_root_mean_squared_error\"\n",
    "                   )\n",
    "gcv.fit(train_df.to_numpy(), train_target)"
   ]
  },
  {
   "cell_type": "code",
   "execution_count": 6,
   "id": "fde86221-32b7-4ee6-ad78-1f2f5df0852b",
   "metadata": {},
   "outputs": [
    {
     "name": "stdout",
     "output_type": "stream",
     "text": [
      "GridSearchCV results:\n",
      "\n",
      "best_estimator_: RandomForestRegressor()\n",
      "\n",
      "best_params_: {'max_depth': None, 'n_estimators': 100}\n",
      "\n",
      "best_score_: -1.0851316531496098\n",
      "\n"
     ]
    }
   ],
   "source": [
    "print(\"GridSearchCV results:\\n\")\n",
    "print(f'best_estimator_: {gcv.best_estimator_}\\n')\n",
    "print(f'best_params_: {gcv.best_params_}\\n')\n",
    "print(f'best_score_: {gcv.best_score_}\\n')"
   ]
  },
  {
   "cell_type": "code",
   "execution_count": 7,
   "id": "874b3922-9ff1-41f3-aff5-c530817629ac",
   "metadata": {},
   "outputs": [
    {
     "data": {
      "text/plain": [
       "array([-2.27296628, -2.26369708, -2.26370023, -1.56063403, -1.52732923,\n",
       "       -1.52615891, -1.12271876, -1.09384603, -1.08513165])"
      ]
     },
     "execution_count": 7,
     "metadata": {},
     "output_type": "execute_result"
    }
   ],
   "source": [
    "gcv.cv_results_[\"mean_test_score\"] # There are nine scores, one for each of the 3 x 3 hyperparameter combinations"
   ]
  },
  {
   "cell_type": "markdown",
   "id": "5b5565df-aeaf-4382-9ddf-9d2cf906f4cc",
   "metadata": {},
   "source": [
    "### Why does n_estimators grow like 10, 33, 100 instead of like 1, 50, 100?\n",
    "\n",
    "First of all, we can make it grow however we want.  The question is why we chose 10, 33, 100.  The idea here is that when you have no idea what is the appropriate number, you should *pick guesses that grow exponentially*.  \n",
    "\n",
    "For example, suppose you are trying to guess the height of a particular tree.  You look online and find that redwoods grow to 400 feet high, while bonsai trees may be as short as six inches.  If you get three guesses, you could guess: one foot, 200 feet, 400 feet.  These guesses would be linearly spaced out.  However, the 200 foot guess feels wrong - it's still very tall.  Most trees don't grow that tall.  Instead, let's make a *geometric progression:*"
   ]
  },
  {
   "cell_type": "code",
   "execution_count": 8,
   "id": "dc9ee5c2-96c1-4753-93b5-67ec4cfc502d",
   "metadata": {},
   "outputs": [
    {
     "data": {
      "text/plain": [
       "[1, 4, 20, 89, 400]"
      ]
     },
     "execution_count": 8,
     "metadata": {},
     "output_type": "execute_result"
    }
   ],
   "source": [
    "list(map(round, [400**0, 400**0.25, 400**0.5, 400**0.75, 400*1]))"
   ]
  },
  {
   "cell_type": "markdown",
   "id": "c8ec0143-0b27-4b1b-a662-2331bb50d539",
   "metadata": {},
   "source": [
    "Now the guesses are four feet, 20 feet, and 89 feet.  (We'll drop the initial 1 and the final 400.) That feels more plausible: the middle value, 20 feet, is representative of many actual trees in a way that the middle 200 foot guess wasn't."
   ]
  },
  {
   "cell_type": "markdown",
   "id": "9238bcf6-b436-42cd-889f-958e7833b430",
   "metadata": {},
   "source": [
    "# 2. Weekly graph question"
   ]
  },
  {
   "cell_type": "markdown",
   "id": "710a11ba-79a2-4006-a6b9-8720dfbdf5d0",
   "metadata": {},
   "source": [
    "In words, please summarize what this graph shows."
   ]
  },
  {
   "cell_type": "code",
   "execution_count": 9,
   "id": "ea4bf748-41f3-49bd-a3bc-4f00576efe16",
   "metadata": {},
   "outputs": [
    {
     "name": "stdout",
     "output_type": "stream",
     "text": [
      "Fitting 500 points\n",
      "RMSE: 1.1677\n",
      "\n",
      "Fitting 1000 points\n",
      "RMSE: 1.1246\n",
      "\n",
      "Fitting 1500 points\n",
      "RMSE: 1.0919\n",
      "\n",
      "Fitting 2000 points\n",
      "RMSE: 1.0859\n",
      "\n",
      "Fitting 2500 points\n",
      "RMSE: 1.0853\n",
      "\n",
      "Fitting 3000 points\n",
      "RMSE: 1.0870\n",
      "\n",
      "Fitting 3500 points\n",
      "RMSE: 1.0793\n",
      "\n",
      "Fitting 4000 points\n",
      "RMSE: 1.0781\n",
      "\n",
      "Fitting 4500 points\n",
      "RMSE: 1.0738\n",
      "\n",
      "Fitting 5000 points\n",
      "RMSE: 1.0720\n",
      "\n",
      "Fitting 5500 points\n",
      "RMSE: 1.0737\n",
      "\n",
      "Fitting 6000 points\n",
      "RMSE: 1.0724\n",
      "\n",
      "Fitting 6500 points\n",
      "RMSE: 1.0750\n",
      "\n",
      "Fitting 7000 points\n",
      "RMSE: 1.0729\n",
      "\n",
      "Fitting 7500 points\n",
      "RMSE: 1.0725\n",
      "\n",
      "Fitting 8000 points\n",
      "RMSE: 1.0686\n",
      "\n",
      "Fitting 8500 points\n",
      "RMSE: 1.0695\n",
      "\n",
      "Fitting 9000 points\n",
      "RMSE: 1.0669\n",
      "\n",
      "Fitting 9500 points\n",
      "RMSE: 1.0673\n",
      "\n"
     ]
    }
   ],
   "source": [
    "rmse_lst = list()\n",
    "num_points_lst = list()\n",
    "\n",
    "for x in range(round(num_points / 20), num_points, round(num_points / 20)):\n",
    "    print(f\"Fitting {x} points\")\n",
    "    rf.fit(train_df.to_numpy()[0:x,:], train_target[0:x])\n",
    "    rmse = root_mean_squared_error(rf.predict(test_df.to_numpy()), test_target)\n",
    "    print(f\"RMSE: {rmse:.4f}\\n\")\n",
    "    rmse_lst.append(rmse)\n",
    "    num_points_lst.append(x)"
   ]
  },
  {
   "cell_type": "code",
   "execution_count": 10,
   "id": "0a5186ba-f30a-46cc-a274-583472a2b378",
   "metadata": {},
   "outputs": [
    {
     "data": {
      "text/plain": [
       "[<matplotlib.lines.Line2D at 0x17e0eda90>]"
      ]
     },
     "execution_count": 10,
     "metadata": {},
     "output_type": "execute_result"
    },
    {
     "data": {
      "image/png": "[encoded data removed]",
      "text/plain": [
       "<Figure size 640x480 with 1 Axes>"
      ]
     },
     "metadata": {},
     "output_type": "display_data"
    }
   ],
   "source": [
    "plt.plot(num_points_lst, rmse_lst, marker = 'o', markersize = 3, linewidth = 1, color = 'midnightblue')"
   ]
  },
  {
   "cell_type": "markdown",
   "id": "386b44b9",
   "metadata": {},
   "source": [
    "<font color = 'plum'> Plots **RMSE (Root Mean Squared Error)** on the **test set** as a function of the number of training samples used to train the `RandomForestRegressor`.\n",
    "\n",
    "- **X-axis**: Number of training samples (increasing from a small subset up to the full dataset).\n",
    "- **Y-axis**: RMSE on the test set.\n",
    "\n",
    "### Patterns\n",
    "\n",
    "1. **Initial Steep Decline**:\n",
    "   - When the model is trained on a small number of samples, it performs poorly on the test set, resulting in high RMSE. As more data is added, the model learns better patterns, and RMSE drops quickly.\n",
    "\n",
    "2. **Diminishing Returns**:\n",
    "   - After a certain point, adding more training data leads to smaller improvements. As the curve flattens, the model has captured most of the learnable structure in the data.\n",
    "\n",
    "3. **Asymptotic Behavior**:\n",
    "   - Eventually, the RMSE stabilizes, approaching the model’s best generalization performance given the noise in the data.\n",
    "\n",
    "\n",
    "### Addnl Thoughts\n",
    "- The underlying function generating the target is nonlinear and includes noise.\n",
    "- Random forests are good at capturing nonlinear relationships, but they still need more data to reduce variance.\n",
    "- The noise in the target (from `np.random.normal`) sets a lower bound on achievable RMSE."
   ]
  },
  {
   "cell_type": "markdown",
   "id": "876c3a23-0f5f-442a-86f0-7f7cc97b7112",
   "metadata": {},
   "source": [
    "# 3. Homework"
   ]
  },
  {
   "cell_type": "markdown",
   "id": "04fa8fd9-f0c1-42fa-b096-8070877c8b8e",
   "metadata": {},
   "source": [
    "In this exercise, you will try to predict the change of one stock based on the change in ten other stocks."
   ]
  },
  {
   "cell_type": "code",
   "execution_count": 11,
   "id": "66801d69",
   "metadata": {},
   "outputs": [],
   "source": [
    "def format_hms(seconds):\n",
    "    return time.strftime(\"%H:%M:%S\", time.gmtime(seconds))"
   ]
  },
  {
   "cell_type": "code",
   "execution_count": 12,
   "id": "90a990ba-a33d-4cb8-bdde-945f9ec4d826",
   "metadata": {},
   "outputs": [],
   "source": [
    "def make_X_y(alpha = 0.5):\n",
    "    \"\"\"\n",
    "    Create feature matrix X with 10 columns corresponding to 10 different stocks.\n",
    "    Target vector y is the eleventh stock.  \n",
    "    Stocks have some commonalities: the even numbered stocks are related, as are the odds.  The stocks that are multiples of three are all related, too.\n",
    "    \"\"\"\n",
    "\n",
    "    df_hwk          = pd.DataFrame()\n",
    "    num_samples_hwk = 10000\n",
    "\n",
    "    common_odd      = np.random.normal(size = num_samples_hwk)\n",
    "    common_even     = np.random.normal(size = num_samples_hwk)\n",
    "    common_three    = np.random.normal(size = num_samples_hwk)\n",
    "\n",
    "    for n in range(11):\n",
    "        common = np.zeros(num_samples_hwk)\n",
    "        if n % 2 == 0:\n",
    "            common += common_even\n",
    "        if n % 2 == 1:\n",
    "            common += common_odd\n",
    "        if n % 3 == 0:\n",
    "            common += common_three\n",
    "            common /= 2\n",
    "        df_hwk[\"Stock_\" + str(n)] = np.random.normal(size = num_samples_hwk) + alpha * common # y = mx + b, where m = alpha\n",
    "        \n",
    "    X = df_hwk.values[:,:-1]\n",
    "    y = df_hwk.values[:,-1]\n",
    "    return X, y"
   ]
  },
  {
   "cell_type": "markdown",
   "id": "fb13a493-7eb7-4618-a19e-069f719e75b9",
   "metadata": {},
   "source": [
    "The above code creates an X with ten columns, corresponding to ten different stocks.  The **y** is Stock_10, the eleventh stock.  The stocks have some commonalities: the even numbered stocks are related, as are the odds.  The stocks that are multiples of three are all related, too.  \n",
    "\n",
    "Random forest should be able to sort through all this and decide that the eleventh stock is related to the odd numbered, non-divisible-by-three stocks, and predict accordingly.  The prediction should presumably be, simply, to take Stocks 1, 5, and 7 and average them, as they are odd-numbered and not divisible by three; so perhaps this task would be easier to do with a linear regression, but we'll use a random forest anyway.  \n",
    "\n",
    "The value `alpha` <font color='cyan'>determines <u>how important the common element is</u>.</font>  If alpha = 0, each stock is its own column of normally-distributed numbers with no relation to the others.  If alpha = 10, then the great majority of the variation in the stock values comes from the common elements."
   ]
  },
  {
   "cell_type": "markdown",
   "id": "6788f11f",
   "metadata": {},
   "source": [
    "### Question: Do you predict that alpha = 0 will result in a better or worse prediction than alpha = 10?  \n",
    "\n",
    "Remember that the prediction must be performed on test data, so you'll need an `X_train` and `y_train` for training and a separate `X_test` and `y_test` for testing.  \n",
    "\n",
    "I recommend using a correlation rather than a MSE or RMSE in this case, if you want to directly compare two different predictions, because the MSE and RMSE vary with the magnitude of the data as well as with the quality of the prediction.\n",
    "\n",
    "After you make the prediction, try it out, and comment on what you learned."
   ]
  },
  {
   "cell_type": "markdown",
   "id": "6e59e508",
   "metadata": {},
   "source": [
    "#### <font color='plum'> My guess: alpha = 10 will result in better prediction than alpha = 0.\n",
    " Alpha = 0 implies that each stock price vector is just independent random noise with no meaningful relationships. Random Forest regressor would have nothing to learn from, so its predictions would be random. \n",
    " \n",
    " With alpha = 10, there are strong structural relationships between stocks that RF can capture - specifically that Stock_10 (the target) shares common factors with stocks 1, 5, and 7."
   ]
  },
  {
   "cell_type": "code",
   "execution_count": 13,
   "id": "1b00f3d9",
   "metadata": {},
   "outputs": [],
   "source": [
    "def run_prediction_experiment(alpha_value, scoring_metric = 'explained_variance', grid_search = True):\n",
    "    \"\"\"Runs the full experiment for a given alpha, scoring metric, and cross-validation search strategy. Returns a dictionary of results.\"\"\"\n",
    "\n",
    "    random_state = 42 \n",
    "    test_size = 0.2\n",
    "    verbosity = 1\n",
    "    # Generate the stock prices and then split into training and testing sets\n",
    "    X, y = make_X_y(alpha = alpha_value)\n",
    "    X_train, X_test, y_train, y_test = train_test_split(X, y, test_size = test_size, random_state = random_state)\n",
    "\n",
    "    # Instantiate  model and hyperparameter space\n",
    "    rf = RandomForestRegressor(random_state = random_state)\n",
    "    param_dist = {\n",
    "        'n_estimators': [50, 100, 200, 300],\n",
    "        'max_depth': [3, 5, 10],\n",
    "        'min_samples_split': [2],\n",
    "        'min_samples_leaf': [1],\n",
    "        'max_features': ['sqrt', 'log2']  \n",
    "    }\n",
    "\n",
    "    # If grid_search is True, use GridSearchCV; otherwise, use RandomizedSearchCV\n",
    "    if grid_search:\n",
    "        cv_search = GridSearchCV\n",
    "        search = cv_search(\n",
    "            estimator           = rf,\n",
    "            param_grid         = param_dist,\n",
    "            # n_iter             = 5,  # Reduced number of iterations for faster execution\n",
    "            cv                 = 5,\n",
    "            scoring            = scoring_metric, # Chosen scoring metric\n",
    "            n_jobs             = -1,\n",
    "            verbose            = verbosity,\n",
    "            # random_state       = random_state\n",
    "    )\n",
    "    else:\n",
    "        cv_search = RandomizedSearchCV\n",
    "        search = cv_search(\n",
    "            estimator            = rf,\n",
    "            param_distributions  = param_dist,\n",
    "            n_iter             = 5,  \n",
    "            cv                 = 5,\n",
    "            scoring            = scoring_metric, # Chosen scoring metric\n",
    "            n_jobs             = -1,\n",
    "            verbose            = verbosity,\n",
    "            random_state       = random_state\n",
    "        )\n",
    "        \n",
    "    search.fit(X_train, y_train)\n",
    "\n",
    "     \n",
    "    best_model      = search.best_estimator_\n",
    "    y_pred          = best_model.predict(X_test)\n",
    "    correlation     = np.corrcoef(y_test, y_pred)[0, 1]\n",
    "\n",
    "    return {'correlation': correlation, \n",
    "            'best_model': best_model, \n",
    "            'y_pred': y_pred, \n",
    "            'y_test': y_test, \n",
    "            'CV_Search': cv_search.__name__\n",
    "            }\n"
   ]
  },
  {
   "cell_type": "code",
   "execution_count": 14,
   "id": "e7cc8b9b",
   "metadata": {},
   "outputs": [
    {
     "name": "stdout",
     "output_type": "stream",
     "text": [
      "Fitting 5 folds for each of 24 candidates, totalling 120 fits\n",
      "GridSearchCV | Test Set Corr for alpha = 0: 0.0094\n",
      "Fitting 5 folds for each of 24 candidates, totalling 120 fits\n",
      "GridSearchCV | Test Set Corr for alpha = 0.1: 0.0322\n",
      "Fitting 5 folds for each of 24 candidates, totalling 120 fits\n",
      "GridSearchCV | Test Set Corr for alpha = 0.5: 0.2991\n",
      "Fitting 5 folds for each of 24 candidates, totalling 120 fits\n",
      "GridSearchCV | Test Set Corr for alpha = 1: 0.6037\n",
      "Fitting 5 folds for each of 24 candidates, totalling 120 fits\n",
      "GridSearchCV | Test Set Corr for alpha = 2: 0.8570\n",
      "Fitting 5 folds for each of 24 candidates, totalling 120 fits\n",
      "GridSearchCV | Test Set Corr for alpha = 5: 0.9716\n",
      "Fitting 5 folds for each of 24 candidates, totalling 120 fits\n",
      "GridSearchCV | Test Set Corr for alpha = 10: 0.9930\n",
      "Execution time: 00:02:30\n"
     ]
    }
   ],
   "source": [
    "start = time.time()\n",
    "\n",
    "\n",
    "alphas = [0, 0.1, 0.5, 1, 2, 5, 10]\n",
    "results = []\n",
    "\n",
    "for alpha in alphas:\n",
    "    dict = run_prediction_experiment(alpha_value = alpha, scoring_metric = 'explained_variance', grid_search = True)\n",
    "    corr = dict['correlation']\n",
    "    results.append((alpha, corr))\n",
    "    print(f\"{dict['CV_Search']} | Test Set Corr for alpha = {alpha}: {corr:.4f}\")\n",
    "\n",
    "end = time.time()\n",
    "print(f\"Execution time: {format_hms(end - start)}\")\n",
    "\n"
   ]
  },
  {
   "cell_type": "code",
   "execution_count": 15,
   "id": "0c9255de",
   "metadata": {},
   "outputs": [
    {
     "data": {
      "text/plain": [
       "<Figure size 400x300 with 0 Axes>"
      ]
     },
     "metadata": {},
     "output_type": "display_data"
    },
    {
     "data": {
      "image/png": "[encoded data removed]",
      "text/plain": [
       "<Figure size 400x300 with 1 Axes>"
      ]
     },
     "metadata": {},
     "output_type": "display_data"
    }
   ],
   "source": [
    "plt.figure(figsize=(4, 3))\n",
    "\n",
    "# Plot 1: Correlation vs Alpha\n",
    "plt.figure(figsize=(4, 3))\n",
    "correlations = [r[1] for r in results]\n",
    "plt.plot(alphas, correlations, marker='o', markersize=3, linestyle='-', color='blue')\n",
    "plt.xlabel('Alpha')\n",
    "plt.ylabel('Correlation')\n",
    "plt.title('GridSearchCV Prediction Correlation vs Alpha', fontsize=10)\n",
    "plt.grid(False)\n",
    "\n",
    "plt.xticks(color='gray')\n",
    "plt.yticks(color='gray')\n",
    "plt.tick_params(axis='x', labelsize=8)\n",
    "plt.tick_params(axis='y', labelsize=8)\n",
    "plt.tight_layout()\n",
    "plt.show()"
   ]
  },
  {
   "cell_type": "markdown",
   "id": "9d7ba606",
   "metadata": {},
   "source": [
    "#### <font color='plum'> Result: alpha = 10 performs significantly better than alpha = 0\n",
    "* alpha = 0: Correlation ≈ 0.001 (essentially random)\n",
    "* alpha = 10: Correlation ≈ 0.99+ (strong predictive power)"
   ]
  },
  {
   "cell_type": "markdown",
   "id": "d2a63186",
   "metadata": {},
   "source": [
    "### Randomized Search\n",
    "Use RandomizedSearchCV instead of GridSearchCV to perform cross-validation.\n"
   ]
  },
  {
   "cell_type": "code",
   "execution_count": 16,
   "id": "3895cc56",
   "metadata": {},
   "outputs": [
    {
     "name": "stdout",
     "output_type": "stream",
     "text": [
      "Fitting 5 folds for each of 5 candidates, totalling 25 fits\n",
      "RandomizedSearchCV | Test Set Corr for alpha = 0: 0.0192\n",
      "Fitting 5 folds for each of 5 candidates, totalling 25 fits\n",
      "RandomizedSearchCV | Test Set Corr for alpha = 0.1: 0.0217\n",
      "Fitting 5 folds for each of 5 candidates, totalling 25 fits\n",
      "RandomizedSearchCV | Test Set Corr for alpha = 0.5: 0.2843\n",
      "Fitting 5 folds for each of 5 candidates, totalling 25 fits\n",
      "RandomizedSearchCV | Test Set Corr for alpha = 1: 0.6307\n",
      "Fitting 5 folds for each of 5 candidates, totalling 25 fits\n",
      "RandomizedSearchCV | Test Set Corr for alpha = 2: 0.8556\n",
      "Fitting 5 folds for each of 5 candidates, totalling 25 fits\n",
      "RandomizedSearchCV | Test Set Corr for alpha = 5: 0.9752\n",
      "Fitting 5 folds for each of 5 candidates, totalling 25 fits\n",
      "RandomizedSearchCV | Test Set Corr for alpha = 10: 0.9929\n",
      "Execution time: 00:00:39\n"
     ]
    }
   ],
   "source": [
    "start = time.time()\n",
    "\n",
    "# Test different alpha values\n",
    "alphas = [0, 0.1, 0.5, 1, 2, 5, 10]\n",
    "results = []\n",
    "\n",
    "for alpha in alphas:\n",
    "    dict = run_prediction_experiment(alpha_value=alpha, scoring_metric='explained_variance', grid_search=False)\n",
    "    corr = dict['correlation']\n",
    "    results.append((alpha, corr))\n",
    "    print(f\"{dict['CV_Search']} | Test Set Corr for alpha = {alpha}: {corr:.4f}\")\n",
    "\n",
    "end = time.time()\n",
    "print(f\"Execution time: {format_hms(end - start)}\")"
   ]
  },
  {
   "cell_type": "code",
   "execution_count": 17,
   "id": "ad0762db",
   "metadata": {},
   "outputs": [
    {
     "data": {
      "text/plain": [
       "<Figure size 400x300 with 0 Axes>"
      ]
     },
     "metadata": {},
     "output_type": "display_data"
    },
    {
     "data": {
      "image/png": "[encoded data removed]",
      "text/plain": [
       "<Figure size 400x300 with 1 Axes>"
      ]
     },
     "metadata": {},
     "output_type": "display_data"
    }
   ],
   "source": [
    "plt.figure(figsize=(4, 3))\n",
    "\n",
    "# Plot 1: Correlation vs Alpha\n",
    "plt.figure(figsize=(4, 3))\n",
    "correlations = [r[1] for r in results]\n",
    "plt.plot(alphas, correlations, marker='o', markersize=3, linestyle='-', color='blue')\n",
    "plt.xlabel('Alpha')\n",
    "plt.ylabel('Correlation')\n",
    "plt.title('RandomizedSearchCV Prediction Correlation vs Alpha', fontsize=10)\n",
    "plt.grid(False)\n",
    "\n",
    "plt.xticks(color='gray')\n",
    "plt.yticks(color='gray')\n",
    "plt.tick_params(axis='x', labelsize=8)\n",
    "plt.tick_params(axis='y', labelsize=8)\n",
    "plt.tight_layout()\n",
    "plt.show()"
   ]
  },
  {
   "cell_type": "markdown",
   "id": "146599a4",
   "metadata": {},
   "source": [
    "### Scoring\n",
    "\n",
    "Research the scoring parameters under \"regression\":\n",
    "\n",
    "https://scikit-learn.org/dev/modules/model_evaluation.html#scoring-parameter\n",
    "\n",
    "Choose at least one that you want to learn about, use it, and research it online.  Write something about what you've learned about it."
   ]
  },
  {
   "cell_type": "markdown",
   "id": "c5efabe4",
   "metadata": {},
   "source": [
    "<font color='plum'>\n",
    "\n",
    "\n",
    "`Median Absolute Error (MAE)` measures the median of absolute differences between predicted and actual values. Arguably, it's more robust to outliers than Mean Absolute Error,because it uses the median instead of the mean. There's a \"negative\" prefix, which in sklearn scoring follows the convention that \"higher return values are better than lower return values\" . Since MAE is an error metric (lower is better), sklearn negates it so that better models have higher scores in cross-validation.\n",
    "\n",
    "`r2_score`:  The **coefficient of determination** is the proportion of variation in the dependent variable that is predictable from the independent variable(s). In regression, it's the statistical measure of how well the regression predictions approximate the real data points. An R2-squared of 1 indicates that the regression predictions perfectly fit the data.\n",
    "\n"
   ]
  },
  {
   "cell_type": "markdown",
   "id": "d2c14eaa",
   "metadata": {},
   "source": [
    "<font color='plum'>Structural Relationships: \n",
    "- With alpha = 10, the common factors create strong structural relationships that Random Forest can capture. Stock_10 (the target) shares common factors with stocks 1, 5, and 7.\n",
    "\n",
    "Feature Importance: \n",
    "- Random Forest successfully identifies the most relevant features. The feature importance analysis would show stocks 1, 5, and 7 as the most important predictors, exactly matching the theoretical expectation.\n",
    "\n",
    "\n",
    "`RandomizedSearchCV` advantages: \n",
    "- Using `RandomizedSearchCV` instead of `GridSearchCV` allows efficient hyperparameter tuning by *sampling from parameter distributions* rather than exhaustively testing all combinations, making it much faster for large parameter spaces.\n",
    "\n",
    "- The experiment confirms that machine learning models need meaningful signal in the data to make accurate predictions - pure noise yields no predictive power, regardless of model sophistication."
   ]
  },
  {
   "cell_type": "markdown",
   "id": "3cf66766-3093-448d-a7cd-89eb543dc463",
   "metadata": {},
   "source": [
    "# 4. Storytelling With Data plot"
   ]
  },
  {
   "cell_type": "markdown",
   "id": "39aa0192-d4c6-47d8-977e-2de3834fbeea",
   "metadata": {},
   "source": [
    "Reproduce any graph of your choice in chapter six (p. 151-163) of the Storytelling With Data book as best you can. You do not have to get the exact data values right, just the overall look and feel."
   ]
  },
  {
   "cell_type": "markdown",
   "id": "979ade2a",
   "metadata": {},
   "source": [
    "<font color='plum'>from page 152, Fig. 6.1 of *Storytelling with Data* "
   ]
  },
  {
   "cell_type": "code",
   "execution_count": 18,
   "id": "8b4f771c-d56a-43f1-9b38-f9a70be3d81a",
   "metadata": {},
   "outputs": [
    {
     "data": {
      "image/png": "[encoded data removed]",
      "text/plain": [
       "<Figure size 800x500 with 1 Axes>"
      ]
     },
     "metadata": {},
     "output_type": "display_data"
    }
   ],
   "source": [
    "import matplotlib.pyplot as plt\n",
    "import matplotlib.ticker as mticker\n",
    "import numpy as np\n",
    "\n",
    "# --- 1. Data  ---\n",
    "\n",
    "days_current = [0, 2, 5, 7, 9, 11]\n",
    "money_current = [0, 10000, 24000, 28000, 30000, 33967]\n",
    "\n",
    "\n",
    "days_last_year = [0, 5, 10, 15, 20, 25, 28, 30]\n",
    "money_last_year = [0, 13000, 20000, 28000, 40000, 45000, 50000, 51400]\n",
    "\n",
    "goal_amount = 50000\n",
    "\n",
    "# --- 2. Plot Creation ---\n",
    "fig, ax = plt.subplots(figsize=(8, 5))\n",
    "light_blue = \"#8db9d6\"  # Light blue color for \"Last year\"\n",
    "dark_blue = \"#3465a4\"  # Dark blue color for \"Progress to date\"\n",
    "grey = \"grey\"  # Grey color for \"GOAL\"\n",
    "\n",
    "#  \"Last year\" data (thin light blue line)\n",
    "ax.plot(days_last_year, money_last_year, color=light_blue, linewidth=2)\n",
    "\n",
    "#  \"Progress to date\" data (thick dark blue line)\n",
    "ax.plot(days_current, money_current, color='#3465a4', linewidth=3.5)\n",
    "ax.plot(days_current[-1], money_current[-1], 'o', color=dark_blue, markersize=8) # marker at  end of  progress line\n",
    "\n",
    "#  \"GOAL\" line (horizontal grey line)\n",
    "ax.axhline(y=goal_amount, color=grey, linestyle='-', linewidth=1.5, xmin=0.05, xmax=1.0)\n",
    "ax.plot(30, goal_amount, 'o', color=grey, markersize=5, clip_on=False) # marker at the end of  goal line\n",
    "\n",
    "\n",
    "# --- 3. Annotations and Labels ---\n",
    "# Title and Axis Labels\n",
    "ax.set_title('Annual giving campaign progress', loc='left', fontsize=14, pad=20)\n",
    "ax.set_xlabel('Days since campaign launch', fontsize=10, loc='left')\n",
    "ax.set_ylabel('Money raised', fontsize=10, loc='top')\n",
    "\n",
    "# \"Progress to date\"\n",
    "ax.text(days_current[-1] - 0.5, money_current[-1] + 4000, 'Progress to date\\n$33,967',\n",
    "        color=dark_blue, fontsize=10, fontweight='bold', ha='right')\n",
    "\n",
    "# \"Last year\"\n",
    "ax.text(30, money_last_year[-1] + 1500, f'Last year\\n${money_last_year[-1]:,}',\n",
    "        color=light_blue, fontsize=10, ha='right')\n",
    "\n",
    "# \"GOAL\"\n",
    "ax.text(0, goal_amount + 1500, 'GOAL', color=grey, fontsize=10, ha='left', va='bottom')\n",
    "\n",
    "# Figure caption\n",
    "fig.text(0.125, 0.01, 'FIGURE 6.1  Line graph', ha='left', fontsize=12)\n",
    "\n",
    "\n",
    "# --- 4. Styling  ---\n",
    "# Set axis limits\n",
    "ax.set_xlim(0, 30)\n",
    "ax.set_ylim(0, 60000)\n",
    "\n",
    "#  y-axis ticks dollar signs\n",
    "formatter = mticker.StrMethodFormatter('${x:,.0f}')\n",
    "ax.yaxis.set_major_formatter(formatter)\n",
    "\n",
    "# Remove top and right spines\n",
    "ax.spines['top'].set_visible(False)\n",
    "ax.spines['right'].set_visible(False)\n",
    "\n",
    "#  tick label size\n",
    "ax.tick_params(axis='both', which='major', labelsize=8)\n",
    "\n",
    "plt.tight_layout(rect=[0, 0.05, 1, 1])\n",
    "plt.show()"
   ]
  }
 ],
 "metadata": {
  "kernelspec": {
   "display_name": "base",
   "language": "python",
   "name": "python3"
  },
  "language_info": {
   "codemirror_mode": {
    "name": "ipython",
    "version": 3
   },
   "file_extension": ".py",
   "mimetype": "text/x-python",
   "name": "python",
   "nbconvert_exporter": "python",
   "pygments_lexer": "ipython3",
   "version": "3.12.2"
  }
 },
 "nbformat": 4,
 "nbformat_minor": 5
}
