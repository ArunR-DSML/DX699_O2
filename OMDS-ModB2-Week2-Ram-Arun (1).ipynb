{
 "cells": [
  {
   "cell_type": "markdown",
   "id": "5190b54c-d49c-4d6f-80cc-22555336a9cd",
   "metadata": {},
   "source": [
    "# Week 2 - Pre-processing, part 2"
   ]
  },
  {
   "cell_type": "markdown",
   "id": "99d441fd",
   "metadata": {},
   "source": [
    "# <font color='orangered'>ATTENTION\n",
    "### * This notebook is best viewed with a dark background\n",
    "### * if you `Run All`, each dataset will take ~1 min to download and 30 sec to generate and render the Profile Report\n",
    "\n",
    "### * Most answers are in <font color='plum'> this color.\n",
    "#### *powered by Arun&trade;* "
   ]
  },
  {
   "cell_type": "code",
   "execution_count": 23,
   "id": "b178ff56",
   "metadata": {},
   "outputs": [],
   "source": [
    "# %pip install kagglehub\n",
    "# %pip install --upgrade pip"
   ]
  },
  {
   "cell_type": "code",
   "execution_count": 24,
   "id": "fe925521-979f-4983-8d85-8db8d1316e99",
   "metadata": {},
   "outputs": [],
   "source": [
    "import pandas as pd\n",
    "import numpy as np\n",
    "import kagglehub \n",
    "import matplotlib.pyplot as plt \n",
    "%matplotlib inline\n",
    "\n",
    "from kagglehub              import KaggleDatasetAdapter\n",
    "from datetime               import datetime, timedelta\n",
    "from ydata_profiling        import ProfileReport\n",
    "from ydata_profiling.config import Settings\n",
    "\n",
    "# custom settings object\n",
    "custom_settings = Settings()"
   ]
  },
  {
   "cell_type": "markdown",
   "id": "5247dfcd",
   "metadata": {},
   "source": [
    "\n",
    "# 1. Lesson: None"
   ]
  },
  {
   "cell_type": "markdown",
   "id": "47c4e5ff-b05f-4ef2-96f1-49dcb5beb158",
   "metadata": {},
   "source": [
    "# 2. Weekly graph question"
   ]
  },
  {
   "cell_type": "markdown",
   "id": "aad37e29-6e84-41fa-886d-abc1312213ab",
   "metadata": {},
   "source": [
    "The Storytelling With Data book mentions planning on a \"Who, What, and How\" for your data story.  Write down a possible Who, What, and How for your data, using the ideas in the book."
   ]
  },
  {
   "cell_type": "markdown",
   "id": "c862fc32-1297-4587-b9da-4b0642ab3e6e",
   "metadata": {},
   "source": [
    "<font color='plum'>\n",
    "\n",
    "Dataset:  Hypertension Risk Prediction, https://www.kaggle.com/datasets/ankushpanday1/hypertension-risk-prediction-dataset\n",
    "\n",
    "The level of detail mostly depends on whether the story is being presented live or in a document. \n",
    "\n",
    "### WHO\n",
    "Public health officials and policy-makers within a specific region or country, the kinds of people responsible for allocating resources and developing public health campaigns to address chronic diseases like hypertension.\n",
    "\n",
    "### WHAT\n",
    "These officials need to be convinced that targeted screening programs for hypertension are necessary, and that specific demographics are at higher risk than others.  The story will need to establish the prevalence of hypertension and its correlation with key risk factors, as identified in the dataset.  The tone is one of 'call to action': approve funding for a pilot program focused on early detection and preTvention in high-risk populations.\n",
    "\n",
    "### HOW\n",
    "Some kind of 'slideument' that presents the problem (prevalence and scale of hypertension, as shown in the data), the risk factors (correlations b/n hypertension and factors like age, BMI, family history, behaviors), a solution (visualizations of model results showing impact of screening programs).  "
   ]
  },
  {
   "cell_type": "markdown",
   "id": "898eb327-aefd-4ac0-b95a-92b616a2181b",
   "metadata": {},
   "source": [
    "# 3. Homework - work with your own data"
   ]
  },
  {
   "cell_type": "markdown",
   "id": "14836788-b235-4cd4-b94d-5f749c6141a8",
   "metadata": {},
   "source": [
    "This week, you will do the same types of exercises as last week, but you should use your chosen datasets that someone in your class found last semester. (They likely will not be the particular datasets that you found yourself.)"
   ]
  },
  {
   "cell_type": "markdown",
   "id": "40ec6082",
   "metadata": {},
   "source": [
    "## 3. Guidelines"
   ]
  },
  {
   "cell_type": "markdown",
   "id": "3b411689",
   "metadata": {},
   "source": [
    "### Here are some types of analysis you can do.  Use Google, documentation, and ChatGPT to help you:\n",
    "\n",
    "- Summarize the datasets using `info()` and `describe()`\n",
    "\n",
    "- Are there any duplicate rows?\n",
    "\n",
    "- Are there any duplicate values in a given column (when this would be inappropriate?)\n",
    "\n",
    "- What are the mean, median, and mode of each column?\n",
    "\n",
    "- Are there any missing or null values?\n",
    "\n",
    "    - Do you want to fill in the missing value with a mean value?  A value of your choice?  Remove that row?\n",
    "\n",
    "- Identify any other inconsistent data (e.g. someone seems to be taking an action before they are born.)\n",
    "\n",
    "- Encode any categorical variables (e.g. with one-hot encoding.)\n"
   ]
  },
  {
   "cell_type": "markdown",
   "id": "d4e4be7f",
   "metadata": {},
   "source": [
    "\n",
    "### Conclusions:\n",
    "\n",
    "- Are the data usable?  If not, find some new data!\n",
    "\n",
    "- Do you need to modify or correct the data in some way?\n",
    "\n",
    "- Is there any class imbalance?  (Categories that have many more items than other categories)."
   ]
  },
  {
   "cell_type": "markdown",
   "id": "d9c03f59",
   "metadata": {},
   "source": [
    "## <font color='plum'> 3. Description\n",
    "\n",
    "This project focuses on understanding and predicting the development of three major chronic illnesses—hypertension, chronic kidney disease (CKD), and diabetes—through lifestyle, demographic, and clinical risk factors. By comparing and analyzing multiple real- world datasets, the goal is to uncover overlapping risk indicators and investigate how preventive strategies can reduce disease onset."
   ]
  },
  {
   "cell_type": "markdown",
   "id": "450bf101",
   "metadata": {},
   "source": [
    "##  <font color='plum'> 3.1. Hypertension Risk Prediction Dataset\n",
    "\n",
    "Includes lifestyle, demographic, and clinical data (e.g., BMI, cholesterol, stress,\n",
    "salt intake, smoking, family history) from individuals across multiple countries. It is\n",
    "labeled for classification tasks (low vs. high risk of hypertension).\n",
    "https://www.kaggle.com/datasets/ankushpanday1/hypertension-risk-prediction-dataset"
   ]
  },
  {
   "cell_type": "code",
   "execution_count": null,
   "id": "6a4a809f",
   "metadata": {},
   "outputs": [],
   "source": [
    "\n",
    "file_path = \"ankushpanday1/hypertension-risk-prediction-dataset\"\n",
    "file_name = \"hypertension_dataset.csv\"\n",
    "\n",
    "df_1 = kagglehub.load_dataset(\n",
    "  KaggleDatasetAdapter.PANDAS,\n",
    "  file_path,\n",
    "  file_name,\n",
    ")\n",
    "\n",
    "df_1.head()"
   ]
  },
  {
   "cell_type": "markdown",
   "id": "0579ef46",
   "metadata": {},
   "source": [
    "### <font color='plum'> 3.1.a. Exploratory Data Analysis"
   ]
  },
  {
   "cell_type": "code",
   "execution_count": null,
   "id": "818ecf12",
   "metadata": {},
   "outputs": [],
   "source": [
    "df_1.info()"
   ]
  },
  {
   "cell_type": "code",
   "execution_count": null,
   "id": "497b5026",
   "metadata": {},
   "outputs": [],
   "source": [
    "df_1.describe()"
   ]
  },
  {
   "cell_type": "code",
   "execution_count": null,
   "id": "95c3e5a1",
   "metadata": {},
   "outputs": [],
   "source": [
    "profile = ProfileReport(\n",
    "    df_1,\n",
    "    html={'style': {'primary_color': 'magenta'}},\n",
    "    minimal=False,\n",
    "    plot={\"dpi\": 100, \"image_format\": \"svg\", \"tight_layout\": True},\n",
    ")\n",
    "\n",
    "profile"
   ]
  },
  {
   "cell_type": "markdown",
   "id": "4aa5f9e3",
   "metadata": {},
   "source": [
    "### <font color='plum'> 3.1.b. Commentary"
   ]
  },
  {
   "cell_type": "markdown",
   "id": "fa4ce22a",
   "metadata": {},
   "source": []
  },
  {
   "cell_type": "markdown",
   "id": "6906747d",
   "metadata": {},
   "source": [
    "## <font color='plum'> 3.2. Chronic Kidney Disease Dataset\n",
    "\n",
    "Contains comprehensive data for 1,659 patients, including 54 variables spanning\n",
    "medical history, lab results, medication usage, quality of life, and environmental\n",
    "exposure. Ideal for regression, classification, and clustering analyses.\n",
    "https://www.kaggle.com/datasets/rabieelkharoua/chronic-kidney-disease-dataset-analysis"
   ]
  },
  {
   "cell_type": "code",
   "execution_count": null,
   "id": "ebf322ff",
   "metadata": {},
   "outputs": [],
   "source": [
    "file_path = \"rabieelkharoua/chronic-kidney-disease-dataset-analysis\"\n",
    "file_name = \"Chronic_Kidney_Dsease_data.csv\"\n",
    "\n",
    "# Load the latest version\n",
    "df_2 = kagglehub.load_dataset(\n",
    "  KaggleDatasetAdapter.PANDAS,\n",
    "  file_path,\n",
    "  file_name,\n",
    ")\n",
    "\n",
    "df_2.head()"
   ]
  },
  {
   "cell_type": "markdown",
   "id": "6f62260c",
   "metadata": {},
   "source": [
    "### <font color='plum'> 3.2.a. Exploratory Data Analysis"
   ]
  },
  {
   "cell_type": "code",
   "execution_count": null,
   "id": "dea9602e",
   "metadata": {},
   "outputs": [],
   "source": [
    "df_2.info()"
   ]
  },
  {
   "cell_type": "code",
   "execution_count": null,
   "id": "85ca9919",
   "metadata": {},
   "outputs": [],
   "source": [
    "df_2.describe()"
   ]
  },
  {
   "cell_type": "code",
   "execution_count": null,
   "id": "483db80b",
   "metadata": {},
   "outputs": [],
   "source": [
    "profile = ProfileReport(\n",
    "    df_2,\n",
    "    html    = {'style': {'primary_color': 'firebrick'}},\n",
    "    minimal = False,\n",
    "    plot    = {\"dpi\": 100, \"image_format\": \"svg\", \"tight_layout\": True},\n",
    ")\n",
    "profile"
   ]
  },
  {
   "cell_type": "markdown",
   "id": "a97a60c3",
   "metadata": {},
   "source": [
    "### <font color='plum'> 3.2.b. Commentary"
   ]
  },
  {
   "cell_type": "markdown",
   "id": "3692026d",
   "metadata": {},
   "source": [
    "## <font color='plum'> 3.3. Diabetes Health Indicators Dataset\n",
    "Over 250,000 responses from a U.S. national health survey with demographic and\n",
    "lifestyle variables (e.g., BMI, activity level, smoking, sleep, general health).\n",
    "Designed for predicting diabetes status (none, pre-diabetic, diabetic).\n",
    "https://www.kaggle.com/datasets/alexteboul/diabetes-health-indicators-dataset"
   ]
  },
  {
   "cell_type": "code",
   "execution_count": null,
   "id": "df0ea621",
   "metadata": {},
   "outputs": [],
   "source": [
    "file_path = \"alexteboul/diabetes-health-indicators-dataset\"\n",
    "file_name = \"diabetes_012_health_indicators_BRFSS2015.csv\"\n",
    "\n",
    "# Load the latest version\n",
    "df_3 = kagglehub.load_dataset(\n",
    "  KaggleDatasetAdapter.PANDAS,\n",
    "  file_path,\n",
    "  file_name,\n",
    ")\n",
    "\n",
    "df_3.head()"
   ]
  },
  {
   "cell_type": "markdown",
   "id": "cd114f66",
   "metadata": {},
   "source": [
    "### <font color='plum'> 3.3.a. Exploratory Data Analysis"
   ]
  },
  {
   "cell_type": "code",
   "execution_count": null,
   "id": "24668d14",
   "metadata": {},
   "outputs": [],
   "source": [
    "df_3.info()"
   ]
  },
  {
   "cell_type": "code",
   "execution_count": null,
   "id": "822e172a",
   "metadata": {},
   "outputs": [],
   "source": [
    "df_3.describe()"
   ]
  },
  {
   "cell_type": "code",
   "execution_count": null,
   "id": "9509d59b",
   "metadata": {},
   "outputs": [],
   "source": [
    "profile = ProfileReport(\n",
    "    df_3,\n",
    "    html    = {'style': {'primary_color': 'firebrick'}},\n",
    "    minimal = False,\n",
    "    plot    = {\"dpi\": 100, \"image_format\": \"svg\", \"tight_layout\": True},\n",
    ")\n",
    "profile"
   ]
  },
  {
   "cell_type": "markdown",
   "id": "dd6a3681",
   "metadata": {},
   "source": [
    "### <font color='plum'> 3.3.b. Commentary"
   ]
  },
  {
   "cell_type": "markdown",
   "id": "abab9e6d-18cc-4863-b980-3e52f581763a",
   "metadata": {},
   "source": [
    "# 4. <font color='plum'>Storytelling With Data graph"
   ]
  },
  {
   "cell_type": "markdown",
   "id": "1911148d-9df6-4b33-a875-8c96408ec834",
   "metadata": {},
   "source": [
    "Just like last week: choose any graph in the Introduction of <u>Storytelling With Data</u>. \n",
    "\n",
    "Use `matplotlib` to reproduce it in a rough way. I don't expect you to spend an enormous amount of time on this; I understand that you likely will not have time to re-create every feature of the graph. However, if you're excited about learning to use matplotlib, this is a good way to do that. You don't have to duplicate the exact values on the graph; just the same rough shape will be enough.  If you don't feel comfortable using matplotlib yet, do the best you can and write down what you tried or what Google searches you did to find the answers."
   ]
  },
  {
   "cell_type": "markdown",
   "id": "dd4a7712",
   "metadata": {},
   "source": [
    "<font color='plum'> This is from page 4 of <u>Storytelling With Data</u> "
   ]
  },
  {
   "cell_type": "code",
   "execution_count": null,
   "id": "4e63addd",
   "metadata": {},
   "outputs": [],
   "source": [
    "\n",
    "months      = ['Jan', 'Feb', 'Mar', 'Apr', 'May', 'Jun', 'Jul', 'Aug', 'Sep', 'Oct', 'Nov', 'Dec']\n",
    "received    = [160, 180, 235, 150, 180, 170, 140, 202, 160, 139, 149, 177]\n",
    "processed   = [160, 180, 235, 150, 180, 170, 125, 156, 126, 104, 124, 140]\n",
    "\n",
    "plt.figure(figsize = (8, 5))\n",
    "\n",
    "plt.plot(months, received, marker='o', color='gray', label='Received', linewidth = 2, markersize = 4)\n",
    "plt.plot(months, processed, marker='o', color='navy', label='Processed', linewidth = 2, markersize = 4 )\n",
    "\n",
    "plt.title('Ticket volume over time', fontsize = 14, pad = 20, loc = 'left')\n",
    "plt.ylabel('Number of tickets', fontsize = 10, loc = 'top')\n",
    "# plt.grid(False, linestyle='--', alpha=0.7)\n",
    "\n",
    "# vertical line at May\n",
    "plt.axvline(x           = months.index('May'), \n",
    "            color       = 'gray', \n",
    "            linestyle   = '-', \n",
    "            alpha       = 0.5)\n",
    "\n",
    "# annotations\n",
    "plt.text(-0.5, -40, '2014', fontsize = 10)\n",
    "plt.text(months.index('Apr')-0.25, 250, \n",
    "         '2 employees quit in May. We nearly kept up with incoming volume\\nin the following two months, but fell behind with the increase in Aug\\nand haven\\'t been able to catch up since.', \n",
    "         fontsize = 8, \n",
    "         color = 'gray')\n",
    "\n",
    "# data labels\n",
    "for i, (r, p) in enumerate(zip(received, processed)):\n",
    "    if i >= 7:\n",
    "        plt.text(i, r+5, str(r), ha='center', va='bottom', color='gray')\n",
    "        plt.text(i, p-10, str(p), ha='center', va='top', color='navy')\n",
    "\n",
    "# Customize axis\n",
    "plt.ylim(0, 300)\n",
    "\n",
    "#legend\n",
    "plt.legend(frameon = False)\n",
    "\n",
    "plt.tight_layout()\n",
    "plt.show()"
   ]
  }
 ],
 "metadata": {
  "kernelspec": {
   "display_name": "base",
   "language": "python",
   "name": "python3"
  },
  "language_info": {
   "codemirror_mode": {
    "name": "ipython",
    "version": 3
   },
   "file_extension": ".py",
   "mimetype": "text/x-python",
   "name": "python",
   "nbconvert_exporter": "python",
   "pygments_lexer": "ipython3",
   "version": "3.12.2"
  }
 },
 "nbformat": 4,
 "nbformat_minor": 5
}
